{
 "cells": [
  {
   "cell_type": "code",
   "id": "initial_id",
   "metadata": {
    "collapsed": true,
    "ExecuteTime": {
     "end_time": "2025-07-28T08:19:19.584830Z",
     "start_time": "2025-07-28T08:19:19.306395Z"
    }
   },
   "source": "import os, glob, pandas as pd",
   "outputs": [],
   "execution_count": 1
  },
  {
   "metadata": {
    "ExecuteTime": {
     "end_time": "2025-07-26T11:58:43.482434Z",
     "start_time": "2025-07-26T11:58:41.796866Z"
    }
   },
   "cell_type": "code",
   "source": [
    " # 读取数据集\n",
    "df1 = pd.read_csv('../dataset/damage_detection_hell/MVS_P2_DS1_NM_Z_01.csv')\n",
    "df2 = pd.read_csv('../dataset/damage_detection_hell/MVS_P2_DS2_NM_Z_01.csv')\n",
    "df3 = pd.read_csv('../dataset/damage_detection_hell/MVS_P2_DS3_NM_Z_01.csv')\n",
    "df4 = pd.read_csv('../dataset/damage_detection_hell/MVS_P2_DS4_NM_Z_01.csv')\n",
    "df5 = pd.read_csv('../dataset/damage_detection_hell/MVS_P2_DS5_NM_Z_01.csv')\n",
    "df6 = pd.read_csv('../dataset/damage_detection_hell/MVS_P2_DS6_NM_Z_01.csv')\n",
    "df7 = pd.read_csv('../dataset/damage_detection_hell/MVS_P2_DS7_NM_Z_01.csv')\n",
    "df8 = pd.read_csv('../dataset/damage_detection_hell/MVS_P2_DS8_NM_Z_01.csv')\n",
    "df9 = pd.read_csv('../dataset/damage_detection_hell/MVS_P2_UDS_NM_Z_01.csv')\n",
    "df10 = pd.read_csv('../dataset/damage_detection_hell/MVS_P2_UDS_NM_Z_02.csv')\n",
    "\n",
    "# 打印所有数据集形状\n",
    "for i in [df1, df2, df3, df4, df5, df6, df7, df8, df9, df10]:\n",
    "    print(i.shape)"
   ],
   "id": "5155a5bf4542ccd1",
   "outputs": [
    {
     "name": "stdout",
     "output_type": "stream",
     "text": [
      "(81919, 40)\n",
      "(81919, 40)\n",
      "(81919, 40)\n",
      "(81919, 40)\n",
      "(81919, 40)\n",
      "(81919, 40)\n",
      "(81919, 40)\n",
      "(81919, 40)\n",
      "(81919, 40)\n",
      "(81919, 40)\n"
     ]
    }
   ],
   "execution_count": 3
  },
  {
   "metadata": {
    "ExecuteTime": {
     "end_time": "2025-07-28T08:21:40.005507Z",
     "start_time": "2025-07-28T08:21:38.309722Z"
    }
   },
   "cell_type": "code",
   "source": [
    "\n",
    "# 根据你的实际 args.seq_len 调整\n",
    "seq_len = 96\n",
    "\n",
    "# 找到所有文件\n",
    "file_paths = sorted(glob.glob('../dataset/damage_detection_hell/MVS_P2_*.csv'))\n",
    "\n",
    "# 收集信息\n",
    "records = []\n",
    "for path in file_paths:\n",
    "    df = pd.read_csv(path, header=None)\n",
    "    rows, cols = df.shape\n",
    "    windows = rows // seq_len\n",
    "    records.append({\n",
    "        'file': os.path.basename(path),\n",
    "        'rows': rows,\n",
    "        'cols': cols,\n",
    "        'windows': windows\n",
    "    })\n",
    "\n",
    "# 构造 DataFrame\n",
    "df_summary = pd.DataFrame(records)\n",
    "\n",
    "# 打印表格\n",
    "print(df_summary.to_string(index=False))\n"
   ],
   "id": "483c233b2d0aaa5a",
   "outputs": [
    {
     "name": "stdout",
     "output_type": "stream",
     "text": [
      "                  file  rows  cols  windows\n",
      "MVS_P2_DS1_NM_Z_01.csv 81920    40      853\n",
      "MVS_P2_DS2_NM_Z_01.csv 81920    40      853\n",
      "MVS_P2_DS3_NM_Z_01.csv 81920    40      853\n",
      "MVS_P2_DS4_NM_Z_01.csv 81920    40      853\n",
      "MVS_P2_DS5_NM_Z_01.csv 81920    40      853\n",
      "MVS_P2_DS6_NM_Z_01.csv 81920    40      853\n",
      "MVS_P2_DS7_NM_Z_01.csv 81920    40      853\n",
      "MVS_P2_DS8_NM_Z_01.csv 81920    40      853\n",
      "MVS_P2_UDS_NM_Z_01.csv 81920    40      853\n",
      "MVS_P2_UDS_NM_Z_02.csv 81920    40      853\n"
     ]
    }
   ],
   "execution_count": 4
  },
  {
   "metadata": {
    "ExecuteTime": {
     "end_time": "2025-07-28T08:23:27.447591Z",
     "start_time": "2025-07-28T08:23:25.672800Z"
    }
   },
   "cell_type": "code",
   "source": [
    "\n",
    "seq_len = 96  # 你的窗口长度\n",
    "file_paths = sorted(glob.glob('../dataset/damage_detection_hell/MVS_P2_*.csv'))\n",
    "\n",
    "for path in file_paths:\n",
    "    df = pd.read_csv(path, header=None)\n",
    "    # 计算整条记录各通道的 std\n",
    "    stds = df.std(axis=0)\n",
    "    avg_std = stds.mean()\n",
    "    print(f\"{os.path.basename(path):30s} avg_std_per_channel = {avg_std:.4f}\")"
   ],
   "id": "1a31256b95171ce7",
   "outputs": [
    {
     "name": "stdout",
     "output_type": "stream",
     "text": [
      "MVS_P2_DS1_NM_Z_01.csv         avg_std_per_channel = 0.0159\n",
      "MVS_P2_DS2_NM_Z_01.csv         avg_std_per_channel = 0.0148\n",
      "MVS_P2_DS3_NM_Z_01.csv         avg_std_per_channel = 0.0158\n",
      "MVS_P2_DS4_NM_Z_01.csv         avg_std_per_channel = 0.0159\n",
      "MVS_P2_DS5_NM_Z_01.csv         avg_std_per_channel = 0.0156\n",
      "MVS_P2_DS6_NM_Z_01.csv         avg_std_per_channel = 0.0155\n",
      "MVS_P2_DS7_NM_Z_01.csv         avg_std_per_channel = 0.0154\n",
      "MVS_P2_DS8_NM_Z_01.csv         avg_std_per_channel = 0.0159\n",
      "MVS_P2_UDS_NM_Z_01.csv         avg_std_per_channel = 0.0156\n",
      "MVS_P2_UDS_NM_Z_02.csv         avg_std_per_channel = 0.0158\n"
     ]
    }
   ],
   "execution_count": 6
  },
  {
   "metadata": {},
   "cell_type": "code",
   "outputs": [],
   "execution_count": null,
   "source": "",
   "id": "6f0db4a4ab336e91"
  }
 ],
 "metadata": {
  "kernelspec": {
   "display_name": "Python 3",
   "language": "python",
   "name": "python3"
  },
  "language_info": {
   "codemirror_mode": {
    "name": "ipython",
    "version": 2
   },
   "file_extension": ".py",
   "mimetype": "text/x-python",
   "name": "python",
   "nbconvert_exporter": "python",
   "pygments_lexer": "ipython2",
   "version": "2.7.6"
  }
 },
 "nbformat": 4,
 "nbformat_minor": 5
}
