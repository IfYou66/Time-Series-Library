{
 "cells": [
  {
   "cell_type": "code",
   "id": "initial_id",
   "metadata": {
    "collapsed": true,
    "ExecuteTime": {
     "end_time": "2025-07-26T11:55:46.125854Z",
     "start_time": "2025-07-26T11:55:45.759481Z"
    }
   },
   "source": "import pandas as pd",
   "outputs": [],
   "execution_count": 1
  },
  {
   "metadata": {
    "ExecuteTime": {
     "end_time": "2025-07-26T11:58:43.482434Z",
     "start_time": "2025-07-26T11:58:41.796866Z"
    }
   },
   "cell_type": "code",
   "source": [
    " # 读取数据集\n",
    "df1 = pd.read_csv('../dataset/damage_detection_hell/MVS_P2_DS1_NM_Z_01.csv')\n",
    "df2 = pd.read_csv('../dataset/damage_detection_hell/MVS_P2_DS2_NM_Z_01.csv')\n",
    "df3 = pd.read_csv('../dataset/damage_detection_hell/MVS_P2_DS3_NM_Z_01.csv')\n",
    "df4 = pd.read_csv('../dataset/damage_detection_hell/MVS_P2_DS4_NM_Z_01.csv')\n",
    "df5 = pd.read_csv('../dataset/damage_detection_hell/MVS_P2_DS5_NM_Z_01.csv')\n",
    "df6 = pd.read_csv('../dataset/damage_detection_hell/MVS_P2_DS6_NM_Z_01.csv')\n",
    "df7 = pd.read_csv('../dataset/damage_detection_hell/MVS_P2_DS7_NM_Z_01.csv')\n",
    "df8 = pd.read_csv('../dataset/damage_detection_hell/MVS_P2_DS8_NM_Z_01.csv')\n",
    "df9 = pd.read_csv('../dataset/damage_detection_hell/MVS_P2_UDS_NM_Z_01.csv')\n",
    "df10 = pd.read_csv('../dataset/damage_detection_hell/MVS_P2_UDS_NM_Z_02.csv')\n",
    "\n",
    "# 打印所有数据集形状\n",
    "for i in [df1, df2, df3, df4, df5, df6, df7, df8, df9, df10]:\n",
    "    print(i.shape)"
   ],
   "id": "5155a5bf4542ccd1",
   "outputs": [
    {
     "name": "stdout",
     "output_type": "stream",
     "text": [
      "(81919, 40)\n",
      "(81919, 40)\n",
      "(81919, 40)\n",
      "(81919, 40)\n",
      "(81919, 40)\n",
      "(81919, 40)\n",
      "(81919, 40)\n",
      "(81919, 40)\n",
      "(81919, 40)\n",
      "(81919, 40)\n"
     ]
    }
   ],
   "execution_count": 3
  },
  {
   "metadata": {},
   "cell_type": "code",
   "outputs": [],
   "execution_count": null,
   "source": "",
   "id": "483c233b2d0aaa5a"
  }
 ],
 "metadata": {
  "kernelspec": {
   "display_name": "Python 3",
   "language": "python",
   "name": "python3"
  },
  "language_info": {
   "codemirror_mode": {
    "name": "ipython",
    "version": 2
   },
   "file_extension": ".py",
   "mimetype": "text/x-python",
   "name": "python",
   "nbconvert_exporter": "python",
   "pygments_lexer": "ipython2",
   "version": "2.7.6"
  }
 },
 "nbformat": 4,
 "nbformat_minor": 5
}
